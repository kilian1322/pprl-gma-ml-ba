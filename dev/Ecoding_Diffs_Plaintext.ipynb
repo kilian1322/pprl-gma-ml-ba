{
 "cells": [
  {
   "cell_type": "code",
   "execution_count": 1,
   "metadata": {
    "collapsed": true,
    "ExecuteTime": {
     "end_time": "2023-09-21T12:32:31.780793Z",
     "start_time": "2023-09-21T12:32:30.709242Z"
    }
   },
   "outputs": [],
   "source": [
    "import csv\n",
    "import hashlib\n",
    "import numpy as np\n",
    "import matplotlib.pyplot as plt\n",
    "\n",
    "from scipy.stats import norm\n",
    "from encoders.bf_encoder import BFEncoder\n",
    "from encoders.tmh_encoder import TMHEncoder\n",
    "from encoders.tsh_encoder import TSHEncoder\n",
    "from encoders.non_encoder import NonEncoder\n",
    "from typing import Sequence"
   ]
  },
  {
   "cell_type": "code",
   "execution_count": 2,
   "outputs": [],
   "source": [
    "def read_tsv(path: str, header: bool = True, as_dict: bool = False, delim: str = \"\\t\") -> Sequence[Sequence[str]]:\n",
    "    data = {} if as_dict else []\n",
    "    uid = []\n",
    "    with open(path, \"r\") as f:\n",
    "        reader = csv.reader(f, delimiter=delim)\n",
    "        if header:\n",
    "            next(reader)\n",
    "        for row in reader:\n",
    "            if as_dict:\n",
    "                assert len(row) == 3, \"Dict mode only supports rows with two values + uid\"\n",
    "                data[row[0]] = row[1]\n",
    "            else:\n",
    "                data.append(row[:-1])\n",
    "                uid.append(row[3])\n",
    "    return data, uid"
   ],
   "metadata": {
    "collapsed": false,
    "ExecuteTime": {
     "end_time": "2023-09-21T12:32:31.796345900Z",
     "start_time": "2023-09-21T12:32:31.780793Z"
    }
   }
  },
  {
   "cell_type": "code",
   "execution_count": 3,
   "outputs": [],
   "source": [
    "%matplotlib inline"
   ],
   "metadata": {
    "collapsed": false,
    "ExecuteTime": {
     "end_time": "2023-09-21T12:32:31.812034200Z",
     "start_time": "2023-09-21T12:32:31.796345900Z"
    }
   }
  },
  {
   "cell_type": "code",
   "execution_count": 5,
   "outputs": [],
   "source": [
    "GLOBAL_CONFIG = {\n",
    "    \"Data\": \"../data/fakename_2k.tsv\",\n",
    "    \"Verbose\": True,\n",
    "    \"Workers\": -1\n",
    "}\n",
    "\n",
    "ENC_CONFIG = {\n",
    "    \"AliceAlgo\": \"NonEncoder\",\n",
    "    \"AliceSecret\": \"SuperSecretSalt1337\",\n",
    "    \"AliceBFLength\": 1024,\n",
    "    \"AliceBits\": 40,  # BF: 30, TMH: 1000\n",
    "    \"AliceN\": 2,\n",
    "    \"AliceMetric\": \"dice\",\n",
    "    \"EveAlgo\": \"NonEncoder\",\n",
    "    \"EveSecret\": \"ATotallyDifferentString\",\n",
    "    \"EveBFLength\": 1024,\n",
    "    \"EveBits\": 40,  # BF: 30, TMH: 1000\n",
    "    \"EveN\": 2,\n",
    "    \"EveMetric\": \"dice\",\n",
    "    # For TMH encoding\n",
    "    \"AliceTables\": 8,\n",
    "    \"AliceKeyLen\": 8,\n",
    "    \"AliceValLen\": 128,\n",
    "    \"EveTables\": 8,\n",
    "    \"EveKeyLen\": 8,\n",
    "    \"EveValLen\": 128,\n",
    "    # For 2SH encoding\n",
    "    \"AliceNHashFunc\": 10,\n",
    "    \"AliceNHashCol\": 1000,\n",
    "    \"AliceRandMode\": \"PNG\",\n",
    "    \"EveNHashFunc\": 10,\n",
    "    \"EveNHashCol\": 1000,\n",
    "    \"EveRandMode\": \"PNG\"\n",
    "}"
   ],
   "metadata": {
    "collapsed": false,
    "ExecuteTime": {
     "end_time": "2023-09-21T12:32:45.711269200Z",
     "start_time": "2023-09-21T12:32:45.679980600Z"
    }
   }
  },
  {
   "cell_type": "code",
   "execution_count": 6,
   "outputs": [
    {
     "name": "stdout",
     "output_type": "stream",
     "text": [
      "Loading Data\n"
     ]
    }
   ],
   "source": [
    "print(\"Loading Data\")\n",
    "alice_data, alice_uids = read_tsv(GLOBAL_CONFIG[\"Data\"])\n",
    "eve_data, eve_uids = read_tsv(GLOBAL_CONFIG[\"Data\"])\n",
    "\n",
    "if ENC_CONFIG[\"AliceAlgo\"] == \"BloomFilter\":\n",
    "    alice_encoder = BFEncoder(ENC_CONFIG[\"AliceSecret\"], ENC_CONFIG[\"AliceBFLength\"],\n",
    "                              ENC_CONFIG[\"AliceBits\"], ENC_CONFIG[\"AliceN\"])\n",
    "elif ENC_CONFIG[\"AliceAlgo\"] == \"TabMinHash\":\n",
    "    alice_encoder = TMHEncoder(ENC_CONFIG[\"AliceBits\"], ENC_CONFIG[\"AliceTables\"],\n",
    "                               ENC_CONFIG[\"AliceKeyLen\"], ENC_CONFIG[\"AliceValLen\"], hashlib.md5,\n",
    "                               ENC_CONFIG[\"AliceN\"],\n",
    "                               random_seed=ENC_CONFIG[\"AliceSecret\"], verbose=GLOBAL_CONFIG[\"Verbose\"])\n",
    "elif ENC_CONFIG[\"AliceAlgo\"] == \"TwoStepHash\":\n",
    "    alice_encoder = TSHEncoder(ENC_CONFIG[\"AliceNHashFunc\"], ENC_CONFIG[\"AliceNHashCol\"], ENC_CONFIG[\"AliceN\"],\n",
    "                               ENC_CONFIG[\"AliceRandMode\"], secret=ENC_CONFIG[\"AliceSecret\"],\n",
    "                               verbose=GLOBAL_CONFIG[\"Verbose\"], workers=GLOBAL_CONFIG[\"Workers\"])\n",
    "else:\n",
    "    alice_encoder = NonEncoder(ENC_CONFIG[\"AliceN\"])\n",
    "\n",
    "if ENC_CONFIG[\"EveAlgo\"] == \"BloomFilter\":\n",
    "    eve_encoder = BFEncoder(ENC_CONFIG[\"EveSecret\"], ENC_CONFIG[\"EveBFLength\"],\n",
    "                            ENC_CONFIG[\"EveBits\"], ENC_CONFIG[\"EveN\"])\n",
    "elif ENC_CONFIG[\"EveAlgo\"] == \"TabMinHash\":\n",
    "    eve_encoder = TMHEncoder(ENC_CONFIG[\"EveBits\"], ENC_CONFIG[\"EveTables\"],\n",
    "                             ENC_CONFIG[\"EveKeyLen\"], ENC_CONFIG[\"EveValLen\"], hashlib.md5,\n",
    "                             ENC_CONFIG[\"EveN\"],\n",
    "                             random_seed=ENC_CONFIG[\"EveSecret\"], verbose=GLOBAL_CONFIG[\"Verbose\"])\n",
    "elif ENC_CONFIG[\"EveAlgo\"] == \"TwoStepHash\":\n",
    "    eve_encoder = TSHEncoder(ENC_CONFIG[\"EveNHashFunc\"], ENC_CONFIG[\"EveNHashCol\"], ENC_CONFIG[\"EveN\"],\n",
    "                             ENC_CONFIG[\"EveRandMode\"], secret=ENC_CONFIG[\"EveSecret\"],\n",
    "                             verbose=GLOBAL_CONFIG[\"Verbose\"])\n",
    "else:\n",
    "    eve_encoder = NonEncoder(ENC_CONFIG[\"EveN\"])\n"
   ],
   "metadata": {
    "collapsed": false,
    "ExecuteTime": {
     "end_time": "2023-09-21T12:32:47.213751700Z",
     "start_time": "2023-09-21T12:32:47.150826300Z"
    }
   }
  },
  {
   "cell_type": "code",
   "execution_count": 7,
   "outputs": [
    {
     "name": "stdout",
     "output_type": "stream",
     "text": [
      "Encoding Alice\n",
      "Encoding Eve\n"
     ]
    }
   ],
   "source": [
    "print(\"Encoding Alice\")\n",
    "alice_enc = alice_encoder.encode_and_compare(alice_data, alice_uids, metric=ENC_CONFIG[\"AliceMetric\"], sim=False)\n",
    "\n",
    "print(\"Encoding Eve\")\n",
    "eve_enc = eve_encoder.encode_and_compare(eve_data, eve_uids, metric=ENC_CONFIG[\"AliceMetric\"], sim=False)"
   ],
   "metadata": {
    "collapsed": false,
    "ExecuteTime": {
     "end_time": "2023-09-21T12:33:17.054180Z",
     "start_time": "2023-09-21T12:32:50.828636300Z"
    }
   }
  },
  {
   "cell_type": "code",
   "execution_count": 8,
   "outputs": [],
   "source": [
    "diffs = alice_enc - eve_enc"
   ],
   "metadata": {
    "collapsed": false,
    "ExecuteTime": {
     "end_time": "2023-09-21T12:33:18.616331500Z",
     "start_time": "2023-09-21T12:33:18.588931600Z"
    }
   }
  },
  {
   "cell_type": "code",
   "execution_count": 9,
   "outputs": [],
   "source": [
    "plt.rcParams.update({'figure.figsize':(7,5), 'figure.dpi':100})"
   ],
   "metadata": {
    "collapsed": false,
    "ExecuteTime": {
     "end_time": "2023-09-21T12:33:19.207125500Z",
     "start_time": "2023-09-21T12:33:19.189567Z"
    }
   }
  },
  {
   "cell_type": "code",
   "execution_count": 10,
   "outputs": [
    {
     "name": "stdout",
     "output_type": "stream",
     "text": [
      "Plotting Alice's Similarities\n"
     ]
    },
    {
     "data": {
      "text/plain": "<Figure size 700x500 with 1 Axes>",
      "image/png": "[encoded data removed]"
     },
     "metadata": {},
     "output_type": "display_data"
    }
   ],
   "source": [
    "print(\"Plotting Alice's Similarities\")\n",
    "plt.hist(alice_enc[:,2], bins=50, density=True)\n",
    "plt.gca().set(title='Distribution of Similarities in Alice\\'s Data (' + ENC_CONFIG[\"AliceAlgo\"]+')', ylabel='Density', xlabel='Dice Coefficient')\n",
    "plt.show()"
   ],
   "metadata": {
    "collapsed": false,
    "ExecuteTime": {
     "end_time": "2023-09-21T12:33:19.965998700Z",
     "start_time": "2023-09-21T12:33:19.689193700Z"
    }
   }
  },
  {
   "cell_type": "markdown",
   "source": [],
   "metadata": {
    "collapsed": false
   }
  },
  {
   "cell_type": "code",
   "execution_count": 11,
   "outputs": [
    {
     "name": "stdout",
     "output_type": "stream",
     "text": [
      "Plotting Eve's Similarities\n"
     ]
    },
    {
     "data": {
      "text/plain": "<Figure size 700x500 with 1 Axes>",
      "image/png": "[encoded data removed]"
     },
     "metadata": {},
     "output_type": "display_data"
    }
   ],
   "source": [
    "print(\"Plotting Eve's Similarities\")\n",
    "plt.hist(eve_enc[:,2], bins=50, density=True)\n",
    "plt.gca().set(title='Distribution of Similarities in Eve\\'s Data (' + ENC_CONFIG[\"AliceAlgo\"]+')', ylabel='Density', xlabel='Dice Coefficient')\n",
    "plt.show()"
   ],
   "metadata": {
    "collapsed": false,
    "ExecuteTime": {
     "end_time": "2023-09-21T12:33:26.897039400Z",
     "start_time": "2023-09-21T12:33:26.691865300Z"
    }
   }
  },
  {
   "cell_type": "code",
   "execution_count": null,
   "outputs": [],
   "source": [
    "# Fit a normal distribution to\n",
    "# the data:\n",
    "# mean and standard deviation\n",
    "mu, std = norm.fit(diffs[:,2])"
   ],
   "metadata": {
    "collapsed": false
   }
  },
  {
   "cell_type": "code",
   "execution_count": null,
   "outputs": [],
   "source": [
    "print(\"Fitted normal distribution with center %f and standard deviation %f\" % (mu, std))"
   ],
   "metadata": {
    "collapsed": false
   }
  },
  {
   "cell_type": "code",
   "execution_count": null,
   "outputs": [],
   "source": [
    "plt.hist(diffs[:,2], bins=50, density=True, alpha=0.6, color='b')\n",
    "xmin, xmax = plt.xlim()\n",
    "x = np.linspace(xmin, xmax, 100)\n",
    "p = norm.pdf(x, mu, std)\n",
    "plt.plot(x, p, 'r', linewidth=2)\n",
    "title = 'Distribution of Differences in Similarities (' + ENC_CONFIG[\"AliceAlgo\"]+')'\n",
    "plt.title(title)\n",
    "plt.xlabel(\"Difference in Dice Coefficients\")\n",
    "plt.ylabel(\"Density\")\n",
    "plt.show()"
   ],
   "metadata": {
    "collapsed": false
   }
  },
  {
   "cell_type": "code",
   "execution_count": null,
   "outputs": [],
   "source": [],
   "metadata": {
    "collapsed": false
   }
  },
  {
   "cell_type": "code",
   "execution_count": null,
   "outputs": [],
   "source": [],
   "metadata": {
    "collapsed": false
   }
  }
 ],
 "metadata": {
  "kernelspec": {
   "display_name": "Python 3",
   "language": "python",
   "name": "python3"
  },
  "language_info": {
   "codemirror_mode": {
    "name": "ipython",
    "version": 2
   },
   "file_extension": ".py",
   "mimetype": "text/x-python",
   "name": "python",
   "nbconvert_exporter": "python",
   "pygments_lexer": "ipython2",
   "version": "2.7.6"
  }
 },
 "nbformat": 4,
 "nbformat_minor": 0
}
